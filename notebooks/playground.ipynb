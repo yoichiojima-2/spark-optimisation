{
 "cells": [
  {
   "cell_type": "code",
   "execution_count": null,
   "id": "9a20ecd2-2085-4ec8-8bbc-8eb35d0d67f8",
   "metadata": {},
   "outputs": [],
   "source": [
    "from pyspark.sql import SparkSession\n",
    "from spark_optimisation import taxi\n",
    "\n",
    "spark = SparkSession.builder.getOrCreate()\n",
    "spark.read.parquet(str(taxi.cleanse.path()))"
   ]
  }
 ],
 "metadata": {
  "kernelspec": {
   "display_name": "Python 3 (ipykernel)",
   "language": "python",
   "name": "python3"
  },
  "language_info": {
   "codemirror_mode": {
    "name": "ipython",
    "version": 3
   },
   "file_extension": ".py",
   "mimetype": "text/x-python",
   "name": "python",
   "nbconvert_exporter": "python",
   "pygments_lexer": "ipython3",
   "version": "3.13.7"
  }
 },
 "nbformat": 4,
 "nbformat_minor": 5
}
